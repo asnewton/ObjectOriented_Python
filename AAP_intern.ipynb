{
 "cells": [
  {
   "cell_type": "code",
   "execution_count": 1,
   "metadata": {},
   "outputs": [],
   "source": [
    "import pandas as pd\n",
    "import numpy as np\n",
    "from docx import Document\n",
    "import re"
   ]
  },
  {
   "cell_type": "code",
   "execution_count": 2,
   "metadata": {},
   "outputs": [],
   "source": [
    "# Religions\n",
    "# Extracting Data of excel file\n",
    "gurjar = [x.lower() for x in list(pd.read_excel('gurjarssurnames.xlsx').iloc[:,0].dropna())]\n",
    "brahman = [x.lower() for x in list(pd.read_excel('Bhramansurname.xlsx').iloc[:,0].dropna())]\n",
    "punjabi = [x.lower() for x in list(pd.read_excel('Punjabis.xlsx').iloc[:,0].dropna())]\n",
    "muslims = [x.lower() for x in list(pd.read_excel('MuslimsSurnames.xlsx').iloc[:,0].dropna())]\n",
    "sikh = [x.lower() for x in list(pd.read_fwf('sikh surnames.txt', header = None).iloc[:,0].dropna())]\n",
    "\n",
    "# Extracting data of Docx file \n",
    "file = Document('jattgotrasindelhi.docx')\n",
    "jaat = []\n",
    "for line in file.paragraphs:\n",
    "    y = re.findall('^.+: (\\S.+)', str(line.text))\n",
    "    for i in y:\n",
    "        i = i.split(', ')\n",
    "        for k in i:\n",
    "            jaat.append(k) \n",
    "jaat = [i.lower() for i in jaat]"
   ]
  },
  {
   "cell_type": "code",
   "execution_count": 17,
   "metadata": {},
   "outputs": [],
   "source": [
    "Real_names = pd.read_excel('36.xlsx').dropna() #Converting the file of Enames and Rnames in to DataFrame"
   ]
  },
  {
   "cell_type": "code",
   "execution_count": 18,
   "metadata": {},
   "outputs": [],
   "source": [
    "Ename = [x.lower() for x in list(Real_names.iloc[:, 0])] # extracting Ename and Rname into list \n",
    "Rname = [x.lower() for x in list(Real_names.iloc[:, 1])] ##for performing action on them"
   ]
  },
  {
   "cell_type": "code",
   "execution_count": 24,
   "metadata": {},
   "outputs": [],
   "source": [
    "def choose_religion(split):\n",
    "    religion = ''\n",
    "    if split[-1] in gurjar:\n",
    "        religion = 'gurjar'\n",
    "    elif split[-1] in brahman:                 # For getting the religion from a name\n",
    "        religion = 'brahman'\n",
    "    elif split[-1] in jaat:\n",
    "        religion = 'jaat'\n",
    "    elif split[-1] in sikh:\n",
    "        religion = 'sikh'\n",
    "    elif split[-1] in muslims:\n",
    "        religion = 'muslims'\n",
    "    elif split[-1] in punjabi:\n",
    "        religion = 'punjabi'\n",
    "    else:\n",
    "        religion = 'Absent'\n",
    "        \n",
    "    return religion\n",
    "\n",
    "def make_list(Ename, Rname):\n",
    "    Name = []\n",
    "    Religion = []\n",
    "    \n",
    "    for i, r in zip(Ename, Rname):\n",
    "        \n",
    "        E_split = i.split()\n",
    "        R_split = r.split()\n",
    "        \n",
    "        if len(E_split)<2 and len(R_split)<2:      # After getting the religion\n",
    "                                                   # We append them in two different lists, names and religion list\n",
    "            Name.append(i)                         # Here Nan means Surname is not given\n",
    "            Religion.append(\"Nan\")                 # Absent means Surname do not match with any given religion\n",
    "        elif len(E_split) == len(R_split):\n",
    "            Name.append(i)\n",
    "            Religion.append(choose_religion(E_split))\n",
    "        elif len(E_split) < len(R_split):\n",
    "            Name.append(i)\n",
    "            Religion.append(choose_religion(R_split))\n",
    "        elif len(E_split) > len(R_split):\n",
    "            Name.append(i)\n",
    "            Religion.append(choose_religion(E_split))\n",
    "        \n",
    "    return Name, Religion"
   ]
  },
  {
   "cell_type": "code",
   "execution_count": 20,
   "metadata": {},
   "outputs": [],
   "source": [
    "Name, Religion= make_list(Ename, Rname) # calling the above function of making lists"
   ]
  },
  {
   "cell_type": "code",
   "execution_count": 21,
   "metadata": {},
   "outputs": [],
   "source": [
    "Data = pd.DataFrame([Name, Religion]).T\n",
    "Data.columns = ['Names', 'Religions']    # Making DataFrame of those lists"
   ]
  },
  {
   "cell_type": "code",
   "execution_count": 22,
   "metadata": {},
   "outputs": [
    {
     "data": {
      "text/plain": [
       "Absent     113323\n",
       "punjabi     31565\n",
       "brahman     15637\n",
       "Nan         12278\n",
       "jaat         7887\n",
       "muslims      3017\n",
       "sikh         2619\n",
       "gurjar        189\n",
       "Name: Religions, dtype: int64"
      ]
     },
     "execution_count": 22,
     "metadata": {},
     "output_type": "execute_result"
    }
   ],
   "source": [
    "Data.iloc[:, 1].value_counts()  # calculating the total values"
   ]
  },
  {
   "cell_type": "code",
   "execution_count": 23,
   "metadata": {},
   "outputs": [
    {
     "data": {
      "text/plain": [
       "9408"
      ]
     },
     "execution_count": 23,
     "metadata": {},
     "output_type": "execute_result"
    }
   ],
   "source": [
    "Absent_fname = []\n",
    "absents = Data[Data['Religions'] == 'Absent']       #Getting only the Surnames of Absent surnames \n",
    "for x in list(absents['Names']):\n",
    "    Absent_fname.append(x.split()[-1])\n",
    "len_abs = len(set(Absent_fname))\n",
    "len_abs                      "
   ]
  },
  {
   "cell_type": "code",
   "execution_count": null,
   "metadata": {},
   "outputs": [],
   "source": []
  }
 ],
 "metadata": {
  "kernelspec": {
   "display_name": "Python 3",
   "language": "python",
   "name": "python3"
  },
  "language_info": {
   "codemirror_mode": {
    "name": "ipython",
    "version": 3
   },
   "file_extension": ".py",
   "mimetype": "text/x-python",
   "name": "python",
   "nbconvert_exporter": "python",
   "pygments_lexer": "ipython3",
   "version": "3.6.5"
  }
 },
 "nbformat": 4,
 "nbformat_minor": 2
}
